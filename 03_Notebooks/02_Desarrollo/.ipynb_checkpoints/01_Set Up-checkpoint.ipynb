{
 "cells": [
  {
   "cell_type": "markdown",
   "id": "88094b04",
   "metadata": {},
   "source": [
    "# SET UP"
   ]
  },
  {
   "cell_type": "markdown",
   "id": "f442e8c8-5ae7-4445-8b0b-eab642a92939",
   "metadata": {},
   "source": [
    "El proposito de este mini proyecto es explorar tecnicas para tratar los valores nulos de un dataset. He decidido tratarlo con un proyecto de data science porque considero que le otorga estructura y facilidad de compresión cuando desee volver a revisar o mejorar.\n",
    "\n",
    "La linea de trabajo de planeo seguir es una etapa de calidad de datos, para tener una perspectiva general del dataset. Luego un analisis explotario por medio de graficos, buscando relacion o tendencias en la data que pueden ser relevantes para mejorar mi entendimiento de la informacion. Con ello pasamos al objetivo que es aplicar diferentes metodos para trabajar valores nulos y  ver el impacto que tiene en el algoritmo. Así, elegir el metodo de entrega mejor resultado y buscar el modelo que se adapte mejor para llegar al resultado optimo."
   ]
  },
  {
   "cell_type": "markdown",
   "id": "234469e4",
   "metadata": {},
   "source": [
    "## IMPORTAR PAQUETES"
   ]
  },
  {
   "cell_type": "code",
   "execution_count": 12,
   "id": "18dab684",
   "metadata": {},
   "outputs": [],
   "source": [
    "import os\n",
    "import numpy as np\n",
    "import pandas as pd\n",
    "\n",
    "#Automcompletar rápido\n",
    "%config IPCompleter.greedy=True"
   ]
  },
  {
   "cell_type": "markdown",
   "id": "aa2291ac",
   "metadata": {},
   "source": [
    "## CREAR EL DIRECTORIO DEL PROYECTO"
   ]
  },
  {
   "cell_type": "markdown",
   "id": "9b376a0e",
   "metadata": {},
   "source": [
    "### Definir el directorio raiz donde vamos a crear el proyecto"
   ]
  },
  {
   "cell_type": "code",
   "execution_count": 13,
   "id": "ff896569",
   "metadata": {},
   "outputs": [],
   "source": [
    "raiz = 'C:/Users/matia/OneDrive/Escritorio/'"
   ]
  },
  {
   "cell_type": "markdown",
   "id": "ded3d58c",
   "metadata": {},
   "source": [
    "### Definir el nombre del proyecto"
   ]
  },
  {
   "cell_type": "code",
   "execution_count": 14,
   "id": "3b7dece1",
   "metadata": {},
   "outputs": [],
   "source": [
    "nombre_dir = 'Water_Quality'"
   ]
  },
  {
   "cell_type": "markdown",
   "id": "e98c881a",
   "metadata": {},
   "source": [
    "### Crear el directorio y la estructura del proyecto"
   ]
  },
  {
   "cell_type": "code",
   "execution_count": 15,
   "id": "ea789940",
   "metadata": {},
   "outputs": [],
   "source": [
    "path = raiz + nombre_dir"
   ]
  },
  {
   "cell_type": "code",
   "execution_count": 16,
   "id": "ef24e4c0-48f4-4e2a-99d2-5318049c995b",
   "metadata": {},
   "outputs": [
    {
     "name": "stdout",
     "output_type": "stream",
     "text": [
      "La creación del directorio C:/Users/matia/OneDrive/Escritorio/Water_Quality ha fallado\n"
     ]
    }
   ],
   "source": [
    "try:\n",
    "     os.mkdir(path)\n",
    "     os.mkdir(path + '/01_Documentos')\n",
    "     os.mkdir(path + '/02_Datos')\n",
    "     os.mkdir(path + '/02_Datos/01_Originales')\n",
    "     os.mkdir(path + '/02_Datos/02_Validacion')\n",
    "     os.mkdir(path + '/02_Datos/03_Trabajo')\n",
    "     os.mkdir(path + '/02_Datos/04_Caches')\n",
    "     os.mkdir(path + '/03_Notebooks')\n",
    "     os.mkdir(path + '/03_Notebooks/01_Funciones')\n",
    "     os.mkdir(path + '/03_Notebooks/02_Desarrollo')\n",
    "     os.mkdir(path + '/03_Notebooks/03_Sistema')\n",
    "     os.mkdir(path + '/04_Modelos')\n",
    "     os.mkdir(path + '/05_Resultados')\n",
    "     os.mkdir(path + '/09_Otros')\n",
    "    \n",
    "except OSError:\n",
    "     print (\"La creación del directorio %s ha fallado\" % path)\n",
    "else:\n",
    "     print (\"Se ha creado satisfactoriamente el directorio %s \" % path)"
   ]
  },
  {
   "cell_type": "markdown",
   "id": "d9807988-72c8-42ea-9606-2a9153d641d5",
   "metadata": {},
   "source": [
    "Entrega un error dado que el directorio ya esta creado."
   ]
  },
  {
   "cell_type": "markdown",
   "id": "fbdda974",
   "metadata": {},
   "source": [
    "### Situar el directorio de trabajo en el proyecto"
   ]
  },
  {
   "cell_type": "code",
   "execution_count": 17,
   "id": "6cf7027a",
   "metadata": {},
   "outputs": [],
   "source": [
    "os.chdir(path)"
   ]
  },
  {
   "cell_type": "markdown",
   "id": "c80bcf5b",
   "metadata": {},
   "source": [
    "### Mover el environment.yml"
   ]
  },
  {
   "cell_type": "markdown",
   "id": "5cfd72fa",
   "metadata": {},
   "source": [
    "Buscar manualmente el archivo riesgos.yml, que posiblemente lo haya ubicado en C:\\Users\\tu_usuario y moverlo a la carpeta /01_Documentos'"
   ]
  },
  {
   "cell_type": "markdown",
   "id": "eaae5ba8",
   "metadata": {},
   "source": [
    "## CREAR LOS DATASETS INICIALES"
   ]
  },
  {
   "cell_type": "markdown",
   "id": "18e327d2",
   "metadata": {},
   "source": [
    "Poner los datos originales en la carpeta '/02_Datos/01_Originales'"
   ]
  },
  {
   "cell_type": "markdown",
   "id": "7e6b4179",
   "metadata": {},
   "source": [
    "### Importar los datos"
   ]
  },
  {
   "cell_type": "markdown",
   "id": "a0aada6d",
   "metadata": {},
   "source": [
    "Sustituir el nombre_fichero_datos."
   ]
  },
  {
   "cell_type": "code",
   "execution_count": 18,
   "id": "a991faf3",
   "metadata": {},
   "outputs": [],
   "source": [
    "nombre_fichero_datos = 'water_potability.csv'"
   ]
  },
  {
   "cell_type": "markdown",
   "id": "6f69525e",
   "metadata": {},
   "source": [
    "Cargar los datos."
   ]
  },
  {
   "cell_type": "code",
   "execution_count": 19,
   "id": "0af0f484",
   "metadata": {},
   "outputs": [
    {
     "data": {
      "text/html": [
       "<div>\n",
       "<style scoped>\n",
       "    .dataframe tbody tr th:only-of-type {\n",
       "        vertical-align: middle;\n",
       "    }\n",
       "\n",
       "    .dataframe tbody tr th {\n",
       "        vertical-align: top;\n",
       "    }\n",
       "\n",
       "    .dataframe thead th {\n",
       "        text-align: right;\n",
       "    }\n",
       "</style>\n",
       "<table border=\"1\" class=\"dataframe\">\n",
       "  <thead>\n",
       "    <tr style=\"text-align: right;\">\n",
       "      <th></th>\n",
       "      <th>ph</th>\n",
       "      <th>Hardness</th>\n",
       "      <th>Solids</th>\n",
       "      <th>Chloramines</th>\n",
       "      <th>Sulfate</th>\n",
       "      <th>Conductivity</th>\n",
       "      <th>Organic_carbon</th>\n",
       "      <th>Trihalomethanes</th>\n",
       "      <th>Turbidity</th>\n",
       "      <th>Potability</th>\n",
       "    </tr>\n",
       "  </thead>\n",
       "  <tbody>\n",
       "    <tr>\n",
       "      <th>0</th>\n",
       "      <td>NaN</td>\n",
       "      <td>204.890455</td>\n",
       "      <td>20791.318981</td>\n",
       "      <td>7.300212</td>\n",
       "      <td>368.516441</td>\n",
       "      <td>564.308654</td>\n",
       "      <td>10.379783</td>\n",
       "      <td>86.990970</td>\n",
       "      <td>2.963135</td>\n",
       "      <td>0</td>\n",
       "    </tr>\n",
       "    <tr>\n",
       "      <th>1</th>\n",
       "      <td>3.716080</td>\n",
       "      <td>129.422921</td>\n",
       "      <td>18630.057858</td>\n",
       "      <td>6.635246</td>\n",
       "      <td>NaN</td>\n",
       "      <td>592.885359</td>\n",
       "      <td>15.180013</td>\n",
       "      <td>56.329076</td>\n",
       "      <td>4.500656</td>\n",
       "      <td>0</td>\n",
       "    </tr>\n",
       "    <tr>\n",
       "      <th>2</th>\n",
       "      <td>8.099124</td>\n",
       "      <td>224.236259</td>\n",
       "      <td>19909.541732</td>\n",
       "      <td>9.275884</td>\n",
       "      <td>NaN</td>\n",
       "      <td>418.606213</td>\n",
       "      <td>16.868637</td>\n",
       "      <td>66.420093</td>\n",
       "      <td>3.055934</td>\n",
       "      <td>0</td>\n",
       "    </tr>\n",
       "    <tr>\n",
       "      <th>3</th>\n",
       "      <td>8.316766</td>\n",
       "      <td>214.373394</td>\n",
       "      <td>22018.417441</td>\n",
       "      <td>8.059332</td>\n",
       "      <td>356.886136</td>\n",
       "      <td>363.266516</td>\n",
       "      <td>18.436524</td>\n",
       "      <td>100.341674</td>\n",
       "      <td>4.628771</td>\n",
       "      <td>0</td>\n",
       "    </tr>\n",
       "    <tr>\n",
       "      <th>4</th>\n",
       "      <td>9.092223</td>\n",
       "      <td>181.101509</td>\n",
       "      <td>17978.986339</td>\n",
       "      <td>6.546600</td>\n",
       "      <td>310.135738</td>\n",
       "      <td>398.410813</td>\n",
       "      <td>11.558279</td>\n",
       "      <td>31.997993</td>\n",
       "      <td>4.075075</td>\n",
       "      <td>0</td>\n",
       "    </tr>\n",
       "    <tr>\n",
       "      <th>...</th>\n",
       "      <td>...</td>\n",
       "      <td>...</td>\n",
       "      <td>...</td>\n",
       "      <td>...</td>\n",
       "      <td>...</td>\n",
       "      <td>...</td>\n",
       "      <td>...</td>\n",
       "      <td>...</td>\n",
       "      <td>...</td>\n",
       "      <td>...</td>\n",
       "    </tr>\n",
       "    <tr>\n",
       "      <th>3271</th>\n",
       "      <td>4.668102</td>\n",
       "      <td>193.681735</td>\n",
       "      <td>47580.991603</td>\n",
       "      <td>7.166639</td>\n",
       "      <td>359.948574</td>\n",
       "      <td>526.424171</td>\n",
       "      <td>13.894419</td>\n",
       "      <td>66.687695</td>\n",
       "      <td>4.435821</td>\n",
       "      <td>1</td>\n",
       "    </tr>\n",
       "    <tr>\n",
       "      <th>3272</th>\n",
       "      <td>7.808856</td>\n",
       "      <td>193.553212</td>\n",
       "      <td>17329.802160</td>\n",
       "      <td>8.061362</td>\n",
       "      <td>NaN</td>\n",
       "      <td>392.449580</td>\n",
       "      <td>19.903225</td>\n",
       "      <td>NaN</td>\n",
       "      <td>2.798243</td>\n",
       "      <td>1</td>\n",
       "    </tr>\n",
       "    <tr>\n",
       "      <th>3273</th>\n",
       "      <td>9.419510</td>\n",
       "      <td>175.762646</td>\n",
       "      <td>33155.578218</td>\n",
       "      <td>7.350233</td>\n",
       "      <td>NaN</td>\n",
       "      <td>432.044783</td>\n",
       "      <td>11.039070</td>\n",
       "      <td>69.845400</td>\n",
       "      <td>3.298875</td>\n",
       "      <td>1</td>\n",
       "    </tr>\n",
       "    <tr>\n",
       "      <th>3274</th>\n",
       "      <td>5.126763</td>\n",
       "      <td>230.603758</td>\n",
       "      <td>11983.869376</td>\n",
       "      <td>6.303357</td>\n",
       "      <td>NaN</td>\n",
       "      <td>402.883113</td>\n",
       "      <td>11.168946</td>\n",
       "      <td>77.488213</td>\n",
       "      <td>4.708658</td>\n",
       "      <td>1</td>\n",
       "    </tr>\n",
       "    <tr>\n",
       "      <th>3275</th>\n",
       "      <td>7.874671</td>\n",
       "      <td>195.102299</td>\n",
       "      <td>17404.177061</td>\n",
       "      <td>7.509306</td>\n",
       "      <td>NaN</td>\n",
       "      <td>327.459760</td>\n",
       "      <td>16.140368</td>\n",
       "      <td>78.698446</td>\n",
       "      <td>2.309149</td>\n",
       "      <td>1</td>\n",
       "    </tr>\n",
       "  </tbody>\n",
       "</table>\n",
       "<p>3276 rows × 10 columns</p>\n",
       "</div>"
      ],
      "text/plain": [
       "            ph    Hardness        Solids  Chloramines     Sulfate  \\\n",
       "0          NaN  204.890455  20791.318981     7.300212  368.516441   \n",
       "1     3.716080  129.422921  18630.057858     6.635246         NaN   \n",
       "2     8.099124  224.236259  19909.541732     9.275884         NaN   \n",
       "3     8.316766  214.373394  22018.417441     8.059332  356.886136   \n",
       "4     9.092223  181.101509  17978.986339     6.546600  310.135738   \n",
       "...        ...         ...           ...          ...         ...   \n",
       "3271  4.668102  193.681735  47580.991603     7.166639  359.948574   \n",
       "3272  7.808856  193.553212  17329.802160     8.061362         NaN   \n",
       "3273  9.419510  175.762646  33155.578218     7.350233         NaN   \n",
       "3274  5.126763  230.603758  11983.869376     6.303357         NaN   \n",
       "3275  7.874671  195.102299  17404.177061     7.509306         NaN   \n",
       "\n",
       "      Conductivity  Organic_carbon  Trihalomethanes  Turbidity  Potability  \n",
       "0       564.308654       10.379783        86.990970   2.963135           0  \n",
       "1       592.885359       15.180013        56.329076   4.500656           0  \n",
       "2       418.606213       16.868637        66.420093   3.055934           0  \n",
       "3       363.266516       18.436524       100.341674   4.628771           0  \n",
       "4       398.410813       11.558279        31.997993   4.075075           0  \n",
       "...            ...             ...              ...        ...         ...  \n",
       "3271    526.424171       13.894419        66.687695   4.435821           1  \n",
       "3272    392.449580       19.903225              NaN   2.798243           1  \n",
       "3273    432.044783       11.039070        69.845400   3.298875           1  \n",
       "3274    402.883113       11.168946        77.488213   4.708658           1  \n",
       "3275    327.459760       16.140368        78.698446   2.309149           1  \n",
       "\n",
       "[3276 rows x 10 columns]"
      ]
     },
     "execution_count": 19,
     "metadata": {},
     "output_type": "execute_result"
    }
   ],
   "source": [
    "ruta_completa = path + '/02_Datos/01_Originales/' + nombre_fichero_datos\n",
    "\n",
    "datos = pd.read_csv(ruta_completa)\n",
    "datos"
   ]
  },
  {
   "cell_type": "markdown",
   "id": "72894eb0-ce3b-48f1-a3b8-125caf2d24c9",
   "metadata": {},
   "source": [
    "El numero total de registro en bajo, por ello no voy a tomar un muestra y utilizar todo el dataset para trabajar."
   ]
  },
  {
   "cell_type": "markdown",
   "id": "f84e120e",
   "metadata": {},
   "source": [
    "### Extraer y guardar el dataset de trabajo"
   ]
  },
  {
   "cell_type": "code",
   "execution_count": 20,
   "id": "e0ce153c",
   "metadata": {},
   "outputs": [],
   "source": [
    "trabajo = datos"
   ]
  },
  {
   "cell_type": "code",
   "execution_count": 21,
   "id": "dbb79c5f",
   "metadata": {},
   "outputs": [],
   "source": [
    "nombre_fichero_trabajo = 'trabajo.csv'\n",
    "\n",
    "ruta_completa = path + '/02_Datos/03_Trabajo/' + nombre_fichero_trabajo\n",
    "\n",
    "trabajo.to_csv(ruta_completa)"
   ]
  },
  {
   "cell_type": "code",
   "execution_count": null,
   "id": "8a701768-8890-4bfc-96af-1fc6cd22f154",
   "metadata": {},
   "outputs": [],
   "source": []
  }
 ],
 "metadata": {
  "kernelspec": {
   "display_name": "Python 3 (ipykernel)",
   "language": "python",
   "name": "python3"
  },
  "language_info": {
   "codemirror_mode": {
    "name": "ipython",
    "version": 3
   },
   "file_extension": ".py",
   "mimetype": "text/x-python",
   "name": "python",
   "nbconvert_exporter": "python",
   "pygments_lexer": "ipython3",
   "version": "3.12.4"
  },
  "toc": {
   "base_numbering": 1,
   "nav_menu": {},
   "number_sections": true,
   "sideBar": true,
   "skip_h1_title": false,
   "title_cell": "Table of Contents",
   "title_sidebar": "Contents",
   "toc_cell": false,
   "toc_position": {
    "height": "calc(100% - 180px)",
    "left": "10px",
    "top": "150px",
    "width": "346.133px"
   },
   "toc_section_display": true,
   "toc_window_display": false
  },
  "varInspector": {
   "cols": {
    "lenName": 16,
    "lenType": 16,
    "lenVar": 40
   },
   "kernels_config": {
    "python": {
     "delete_cmd_postfix": "",
     "delete_cmd_prefix": "del ",
     "library": "var_list.py",
     "varRefreshCmd": "print(var_dic_list())"
    },
    "r": {
     "delete_cmd_postfix": ") ",
     "delete_cmd_prefix": "rm(",
     "library": "var_list.r",
     "varRefreshCmd": "cat(var_dic_list()) "
    }
   },
   "types_to_exclude": [
    "module",
    "function",
    "builtin_function_or_method",
    "instance",
    "_Feature"
   ],
   "window_display": false
  }
 },
 "nbformat": 4,
 "nbformat_minor": 5
}
